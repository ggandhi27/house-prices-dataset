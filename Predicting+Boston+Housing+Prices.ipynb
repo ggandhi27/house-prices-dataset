{
 "cells": [
  {
   "cell_type": "code",
   "execution_count": 25,
   "metadata": {
    "collapsed": true
   },
   "outputs": [],
   "source": [
    "import numpy as np\n",
    "import pandas as pd\n",
    "import sklearn.datasets as dt\n",
    "import warnings as war\n",
    "import matplotlib.pyplot as plt"
   ]
  },
  {
   "cell_type": "code",
   "execution_count": 2,
   "metadata": {
    "collapsed": true
   },
   "outputs": [],
   "source": [
    "boston=dt.load_boston()"
   ]
  },
  {
   "cell_type": "code",
   "execution_count": 4,
   "metadata": {
    "collapsed": false
   },
   "outputs": [
    {
     "name": "stdout",
     "output_type": "stream",
     "text": [
      "(506L, 13L)\n"
     ]
    }
   ],
   "source": [
    "print(boston.data.shape)"
   ]
  },
  {
   "cell_type": "code",
   "execution_count": 5,
   "metadata": {
    "collapsed": true
   },
   "outputs": [],
   "source": [
    "X = boston.data\n",
    "y = boston.target"
   ]
  },
  {
   "cell_type": "code",
   "execution_count": 7,
   "metadata": {
    "collapsed": false
   },
   "outputs": [
    {
     "name": "stderr",
     "output_type": "stream",
     "text": [
      "C:\\Users\\gourav\\Anaconda2\\lib\\site-packages\\sklearn\\cross_validation.py:44: DeprecationWarning: This module was deprecated in version 0.18 in favor of the model_selection module into which all the refactored classes and functions are moved. Also note that the interface of the new CV iterators are different from that of this module. This module will be removed in 0.20.\n",
      "  \"This module will be removed in 0.20.\", DeprecationWarning)\n"
     ]
    }
   ],
   "source": [
    "from sklearn.cross_validation import train_test_split\n",
    "X_train,X_test,y_train,y_test=train_test_split(X,y,test_size=0.33,random_state=42)"
   ]
  },
  {
   "cell_type": "code",
   "execution_count": 8,
   "metadata": {
    "collapsed": false
   },
   "outputs": [
    {
     "data": {
      "text/plain": [
       "array([[  9.17800000e-02,   0.00000000e+00,   4.05000000e+00, ...,\n",
       "          1.66000000e+01,   3.95500000e+02,   9.04000000e+00],\n",
       "       [  5.64400000e-02,   4.00000000e+01,   6.41000000e+00, ...,\n",
       "          1.76000000e+01,   3.96900000e+02,   3.53000000e+00],\n",
       "       [  1.05740000e-01,   0.00000000e+00,   2.77400000e+01, ...,\n",
       "          2.01000000e+01,   3.90110000e+02,   1.80700000e+01],\n",
       "       ..., \n",
       "       [  7.61620000e-01,   2.00000000e+01,   3.97000000e+00, ...,\n",
       "          1.30000000e+01,   3.92400000e+02,   1.04500000e+01],\n",
       "       [  1.00245000e+00,   0.00000000e+00,   8.14000000e+00, ...,\n",
       "          2.10000000e+01,   3.80230000e+02,   1.19800000e+01],\n",
       "       [  5.20140000e-01,   2.00000000e+01,   3.97000000e+00, ...,\n",
       "          1.30000000e+01,   3.86860000e+02,   5.91000000e+00]])"
      ]
     },
     "execution_count": 8,
     "metadata": {},
     "output_type": "execute_result"
    }
   ],
   "source": [
    "X_test\n"
   ]
  },
  {
   "cell_type": "code",
   "execution_count": 16,
   "metadata": {
    "collapsed": true
   },
   "outputs": [],
   "source": [
    "from sklearn.metrics import f1_score\n",
    "from sklearn.tree import DecisionTreeRegressor"
   ]
  },
  {
   "cell_type": "code",
   "execution_count": 17,
   "metadata": {
    "collapsed": true
   },
   "outputs": [],
   "source": [
    "def train_classifier(clf,X_train,y_train):\n",
    "    clf.fit(X_train,y_train)\n",
    "\n",
    "def predict_labels(clf,features):\n",
    "    return (clf.predict(features))"
   ]
  },
  {
   "cell_type": "code",
   "execution_count": 19,
   "metadata": {
    "collapsed": true
   },
   "outputs": [],
   "source": [
    "A=DecisionTreeRegressor()"
   ]
  },
  {
   "cell_type": "code",
   "execution_count": 21,
   "metadata": {
    "collapsed": false
   },
   "outputs": [],
   "source": [
    "train_classifier(A,X_train,y_train)\n",
    "y_pred=predict_labels(A,X_test)\n"
   ]
  },
  {
   "cell_type": "code",
   "execution_count": 23,
   "metadata": {
    "collapsed": false,
    "scrolled": true
   },
   "outputs": [
    {
     "name": "stdout",
     "output_type": "stream",
     "text": [
      "[ 22.2  28.    8.1  24.7  17.8  21.6  21.7  13.3  21.6  20.1  18.8  16.6\n",
      "   8.8  21.1  16.2  22.   17.3   7.2  43.1  17.8  24.1  24.4  13.6  20.6\n",
      "  16.7  15.2  22.   13.4  19.4  22.   20.3  22.9  36.5  15.3  13.6  13.8\n",
      "  31.2  19.   21.7  24.7  21.7  37.2  35.2  26.4  22.   12.5  15.2  24.7\n",
      "  23.2  32.   18.5  36.2  16.7  30.1  43.1  20.6  12.5  37.3  22.9  19.5\n",
      "  27.5  24.8  30.1  18.6  24.5  22.5  15.4  22.9  32.   13.4  22.   22.\n",
      "  10.5  23.7  20.6   5.6  19.3  35.2  13.9  15.2  22.   13.8  17.5   7.2\n",
      "  20.3  25.1  17.8  23.   23.   18.   22.2   5.6  19.8  17.5  18.6  19.2\n",
      "  50.   14.5  15.4  14.5  17.5  21.1  13.6  20.4  23.5  14.5  20.4  24.7\n",
      "  19.   22.2   7.2  16.3  22.2  21.4  31.7  17.4  50.   19.   16.2  23.7\n",
      "  17.1  24.8   8.3  18.5  24.7  22.9  23.2  35.1  17.5  50.   14.3  18.6\n",
      "  18.6  16.6  13.1  20.2  19.8  24.8  30.1  21.7  21.7  23.5  19.3  22.5\n",
      "   5.6  18.9  13.8  12.7  16.7  44.8  19.   14.6  23.   18.5  16.2  22.9\n",
      "  15.2  18.6  36.2   7.2  21.4  19.3  20.4  22.9  16.2  22.   37.6]\n"
     ]
    }
   ],
   "source": [
    "print(y_pred)"
   ]
  },
  {
   "cell_type": "code",
   "execution_count": null,
   "metadata": {
    "collapsed": true
   },
   "outputs": [],
   "source": []
  }
 ],
 "metadata": {
  "kernelspec": {
   "display_name": "Python 2",
   "language": "python",
   "name": "python2"
  },
  "language_info": {
   "codemirror_mode": {
    "name": "ipython",
    "version": 2
   },
   "file_extension": ".py",
   "mimetype": "text/x-python",
   "name": "python",
   "nbconvert_exporter": "python",
   "pygments_lexer": "ipython2",
   "version": "2.7.13"
  }
 },
 "nbformat": 4,
 "nbformat_minor": 2
}
